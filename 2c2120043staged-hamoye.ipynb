{
 "cells": [
  {
   "cell_type": "code",
   "execution_count": 1,
   "id": "498879db",
   "metadata": {
    "execution": {
     "iopub.execute_input": "2022-09-20T16:06:42.471592Z",
     "iopub.status.busy": "2022-09-20T16:06:42.471048Z",
     "iopub.status.idle": "2022-09-20T16:06:42.476562Z",
     "shell.execute_reply": "2022-09-20T16:06:42.475648Z"
    },
    "papermill": {
     "duration": 0.016422,
     "end_time": "2022-09-20T16:06:42.478655",
     "exception": false,
     "start_time": "2022-09-20T16:06:42.462233",
     "status": "completed"
    },
    "tags": []
   },
   "outputs": [],
   "source": [
    "#import tensorflow.compat.v1 as tf\n",
    "#tf.disable_v2_behavior()"
   ]
  },
  {
   "cell_type": "code",
   "execution_count": 2,
   "id": "2733eed2",
   "metadata": {
    "execution": {
     "iopub.execute_input": "2022-09-20T16:06:42.491865Z",
     "iopub.status.busy": "2022-09-20T16:06:42.491012Z",
     "iopub.status.idle": "2022-09-20T16:06:48.301072Z",
     "shell.execute_reply": "2022-09-20T16:06:48.300111Z"
    },
    "papermill": {
     "duration": 5.818951,
     "end_time": "2022-09-20T16:06:48.303465",
     "exception": false,
     "start_time": "2022-09-20T16:06:42.484514",
     "status": "completed"
    },
    "tags": []
   },
   "outputs": [],
   "source": [
    "import numpy as np\n",
    "import pandas as pd\n",
    "import matplotlib.pyplot as plt\n",
    "from tensorflow import keras\n",
    "from tensorflow.keras.models import Sequential\n",
    "from tensorflow.keras.layers import Dense, Activation, Flatten, Conv2D, MaxPooling2D\n",
    "from tensorflow.keras.optimizers import Adadelta\n",
    "from tensorflow.keras.preprocessing.image import load_img\n",
    "from keras.preprocessing.image import ImageDataGenerator\n",
    "from PIL import Image\n",
    "from tqdm import tqdm\n",
    "from sklearn.utils import shuffle\n",
    "#from tensorflow.keras.utils import np_utils\n",
    "#from tensorflow.keras.layers.convolutional import Convolution2D, MaxPooling2D\n",
    "#from tensorflow.keras.utils.visualize_util import model_to_dot, plot\n",
    "from IPython.display import SVG\n",
    "#import matplotlib.image as mpimg\n",
    "import matplotlib.image as imread\n",
    "import cv2\n",
    "#℅matplotlib inline"
   ]
  },
  {
   "cell_type": "code",
   "execution_count": 3,
   "id": "f8a88063",
   "metadata": {
    "execution": {
     "iopub.execute_input": "2022-09-20T16:06:48.317617Z",
     "iopub.status.busy": "2022-09-20T16:06:48.317063Z",
     "iopub.status.idle": "2022-09-20T16:06:48.511334Z",
     "shell.execute_reply": "2022-09-20T16:06:48.510357Z"
    },
    "papermill": {
     "duration": 0.203825,
     "end_time": "2022-09-20T16:06:48.513486",
     "exception": false,
     "start_time": "2022-09-20T16:06:48.309661",
     "status": "completed"
    },
    "tags": []
   },
   "outputs": [
    {
     "data": {
      "text/html": [
       "<div>\n",
       "<style scoped>\n",
       "    .dataframe tbody tr th:only-of-type {\n",
       "        vertical-align: middle;\n",
       "    }\n",
       "\n",
       "    .dataframe tbody tr th {\n",
       "        vertical-align: top;\n",
       "    }\n",
       "\n",
       "    .dataframe thead th {\n",
       "        text-align: right;\n",
       "    }\n",
       "</style>\n",
       "<table border=\"1\" class=\"dataframe\">\n",
       "  <thead>\n",
       "    <tr style=\"text-align: right;\">\n",
       "      <th></th>\n",
       "      <th>image_name</th>\n",
       "      <th>tags</th>\n",
       "    </tr>\n",
       "  </thead>\n",
       "  <tbody>\n",
       "    <tr>\n",
       "      <th>0</th>\n",
       "      <td>train_0</td>\n",
       "      <td>haze primary</td>\n",
       "    </tr>\n",
       "    <tr>\n",
       "      <th>1</th>\n",
       "      <td>train_1</td>\n",
       "      <td>agriculture clear primary water</td>\n",
       "    </tr>\n",
       "    <tr>\n",
       "      <th>2</th>\n",
       "      <td>train_2</td>\n",
       "      <td>clear primary</td>\n",
       "    </tr>\n",
       "    <tr>\n",
       "      <th>3</th>\n",
       "      <td>train_3</td>\n",
       "      <td>clear primary</td>\n",
       "    </tr>\n",
       "    <tr>\n",
       "      <th>4</th>\n",
       "      <td>train_4</td>\n",
       "      <td>agriculture clear habitation primary road</td>\n",
       "    </tr>\n",
       "  </tbody>\n",
       "</table>\n",
       "</div>"
      ],
      "text/plain": [
       "  image_name                                       tags\n",
       "0    train_0                               haze primary\n",
       "1    train_1            agriculture clear primary water\n",
       "2    train_2                              clear primary\n",
       "3    train_3                              clear primary\n",
       "4    train_4  agriculture clear habitation primary road"
      ]
     },
     "execution_count": 3,
     "metadata": {},
     "output_type": "execute_result"
    }
   ],
   "source": [
    "#loading the data sets\n",
    "#train_labels = pd.read_csv(\"../inputs/planets-dataset/planet/planet/training\n",
    "train_labels = pd.read_csv(\"../input/planets-dataset/planet/planet/train_classes.csv\")\n",
    "sam_subs = pd.read_csv(\"../input/planets-dataset/planet/planet/sample_submission.csv\")\n",
    "train_labels.head()"
   ]
  },
  {
   "cell_type": "code",
   "execution_count": 4,
   "id": "ffb52f6a",
   "metadata": {
    "execution": {
     "iopub.execute_input": "2022-09-20T16:06:48.528463Z",
     "iopub.status.busy": "2022-09-20T16:06:48.526821Z",
     "iopub.status.idle": "2022-09-20T16:06:48.535807Z",
     "shell.execute_reply": "2022-09-20T16:06:48.534321Z"
    },
    "papermill": {
     "duration": 0.018825,
     "end_time": "2022-09-20T16:06:48.538426",
     "exception": false,
     "start_time": "2022-09-20T16:06:48.519601",
     "status": "completed"
    },
    "tags": []
   },
   "outputs": [
    {
     "name": "stdout",
     "output_type": "stream",
     "text": [
      "(40479, 2)\n",
      "  image_name                                         tags\n",
      "0    train_0                                 haze primary\n",
      "1    train_1              agriculture clear primary water\n",
      "2    train_2                                clear primary\n",
      "3    train_3                                clear primary\n",
      "4    train_4    agriculture clear habitation primary road\n",
      "5    train_5                           haze primary water\n",
      "6    train_6  agriculture clear cultivation primary water\n",
      "7    train_7                                 haze primary\n",
      "8    train_8        agriculture clear cultivation primary\n",
      "9    train_9   agriculture clear cultivation primary road\n"
     ]
    }
   ],
   "source": [
    "#to know the labels that can be assigned to each image\n",
    "#creating mapping\n",
    "mapping_csv = train_labels\n",
    "#summarize property\n",
    "print(mapping_csv.shape)\n",
    "print(mapping_csv[:10])"
   ]
  },
  {
   "cell_type": "code",
   "execution_count": 5,
   "id": "9dba1fa4",
   "metadata": {
    "execution": {
     "iopub.execute_input": "2022-09-20T16:06:48.553363Z",
     "iopub.status.busy": "2022-09-20T16:06:48.551795Z",
     "iopub.status.idle": "2022-09-20T16:06:48.801653Z",
     "shell.execute_reply": "2022-09-20T16:06:48.800671Z"
    },
    "papermill": {
     "duration": 0.259287,
     "end_time": "2022-09-20T16:06:48.804159",
     "exception": false,
     "start_time": "2022-09-20T16:06:48.544872",
     "status": "completed"
    },
    "tags": []
   },
   "outputs": [],
   "source": [
    "#creating a set of labels\n",
    "labels = set()\n",
    "for i in range(len(mapping_csv)):\n",
    "    #converting space separated tags into an array of tags\n",
    "    tags = mapping_csv[\"tags\"][i].split(' ')\n",
    "    labels.update(tags)"
   ]
  },
  {
   "cell_type": "code",
   "execution_count": 6,
   "id": "a6e80a39",
   "metadata": {
    "execution": {
     "iopub.execute_input": "2022-09-20T16:06:48.817775Z",
     "iopub.status.busy": "2022-09-20T16:06:48.817405Z",
     "iopub.status.idle": "2022-09-20T16:06:48.823072Z",
     "shell.execute_reply": "2022-09-20T16:06:48.822201Z"
    },
    "papermill": {
     "duration": 0.014793,
     "end_time": "2022-09-20T16:06:48.825233",
     "exception": false,
     "start_time": "2022-09-20T16:06:48.810440",
     "status": "completed"
    },
    "tags": []
   },
   "outputs": [],
   "source": [
    "#convert set of labels to a list\n",
    "labels = list(labels)\n",
    "#order set alphabetically.\n",
    "labels.sort()"
   ]
  },
  {
   "cell_type": "markdown",
   "id": "8937d203",
   "metadata": {
    "papermill": {
     "duration": 0.005731,
     "end_time": "2022-09-20T16:06:48.836848",
     "exception": false,
     "start_time": "2022-09-20T16:06:48.831117",
     "status": "completed"
    },
    "tags": []
   },
   "source": []
  },
  {
   "cell_type": "code",
   "execution_count": 7,
   "id": "6ffadbe4",
   "metadata": {
    "execution": {
     "iopub.execute_input": "2022-09-20T16:06:48.851149Z",
     "iopub.status.busy": "2022-09-20T16:06:48.850803Z",
     "iopub.status.idle": "2022-09-20T16:06:48.856257Z",
     "shell.execute_reply": "2022-09-20T16:06:48.855330Z"
    },
    "papermill": {
     "duration": 0.015719,
     "end_time": "2022-09-20T16:06:48.858435",
     "exception": false,
     "start_time": "2022-09-20T16:06:48.842716",
     "status": "completed"
    },
    "tags": []
   },
   "outputs": [],
   "source": [
    "#making dictionary that maps labels to integers and the reverse\n",
    "labels_map = {labels[i]:i for i in range(len(labels))}\n",
    "inv_labels_map = {i:labels[i] for i in range(len(labels))}"
   ]
  },
  {
   "cell_type": "code",
   "execution_count": 8,
   "id": "d3423ba2",
   "metadata": {
    "execution": {
     "iopub.execute_input": "2022-09-20T16:06:48.871419Z",
     "iopub.status.busy": "2022-09-20T16:06:48.871093Z",
     "iopub.status.idle": "2022-09-20T16:06:49.143803Z",
     "shell.execute_reply": "2022-09-20T16:06:49.142392Z"
    },
    "papermill": {
     "duration": 0.281666,
     "end_time": "2022-09-20T16:06:49.146088",
     "exception": false,
     "start_time": "2022-09-20T16:06:48.864422",
     "status": "completed"
    },
    "tags": []
   },
   "outputs": [
    {
     "name": "stdout",
     "output_type": "stream",
     "text": [
      "17\n",
      "{'agriculture': 0, 'artisinal_mine': 1, 'bare_ground': 2, 'blooming': 3, 'blow_down': 4, 'clear': 5, 'cloudy': 6, 'conventional_mine': 7, 'cultivation': 8, 'habitation': 9, 'haze': 10, 'partly_cloudy': 11, 'primary': 12, 'road': 13, 'selective_logging': 14, 'slash_burn': 15, 'water': 16}\n"
     ]
    }
   ],
   "source": [
    "#making a function to combine all these\n",
    "def create_tag_mapping(mapping_csv):\n",
    "    labels = set()\n",
    "    for i in range(len(mapping_csv)):\n",
    "        tags = mapping_csv[\"tags\"][i].split(' ')\n",
    "        labels.update(tags)\n",
    "    labels = list(labels)\n",
    "    labels.sort()\n",
    "    labels_map = {labels[i]:i for i in range(len(labels))}\n",
    "    inv_labels_map = {i:labels[i] for i in range(len(labels))}\n",
    "    return labels_map, inv_labels_map\n",
    "        #labels = list(labels)\n",
    "        #labels.sort()\n",
    "        #labels_map = {labels[i]:i for i in range(len(labels))}\n",
    "        #inv_labels_map = {i:labels[i] for i in range(len(labels))}\n",
    "        #return labels_map, inv_labels_map\n",
    "#loading the data\n",
    "#mapping_csv = pd.read_csv(\"../inputs/planets-dataset/planet/planet/train_classes.csv\")\n",
    "mapping_csv = pd.read_csv(\"../input/planets-dataset/planet/planet/train_classes.csv\")\n",
    "mapping, inv_mapping = create_tag_mapping(mapping_csv)\n",
    "print(len(mapping))\n",
    "print(mapping)\n",
    "#labels_map, inv_labels_map = create_tag_mapping(mapping_csv)\n",
    "#print(len(labels_map))\n",
    "#print(labels_map)\n",
    "#print(len(inv_labels_map))\n",
    "    \n",
    "    "
   ]
  },
  {
   "cell_type": "code",
   "execution_count": 9,
   "id": "076ddd8b",
   "metadata": {
    "execution": {
     "iopub.execute_input": "2022-09-20T16:06:49.159902Z",
     "iopub.status.busy": "2022-09-20T16:06:49.159504Z",
     "iopub.status.idle": "2022-09-20T16:06:49.166099Z",
     "shell.execute_reply": "2022-09-20T16:06:49.165233Z"
    },
    "papermill": {
     "duration": 0.016009,
     "end_time": "2022-09-20T16:06:49.168158",
     "exception": false,
     "start_time": "2022-09-20T16:06:49.152149",
     "status": "completed"
    },
    "tags": []
   },
   "outputs": [],
   "source": [
    "#Create a mapping of file name to tags\n",
    "def create_file_mapping(mapping_csv):\n",
    "    mapping = dict()\n",
    "    for i in range(len(mapping_csv)):\n",
    "        name, tags = mapping_csv['image_name'][i], mapping_csv[\"tags\"][i]\n",
    "        mapping[name] = tags.split(' ')\n",
    "    return mapping    "
   ]
  },
  {
   "cell_type": "code",
   "execution_count": 10,
   "id": "17623fd0",
   "metadata": {
    "execution": {
     "iopub.execute_input": "2022-09-20T16:06:49.181731Z",
     "iopub.status.busy": "2022-09-20T16:06:49.181404Z",
     "iopub.status.idle": "2022-09-20T16:06:49.192414Z",
     "shell.execute_reply": "2022-09-20T16:06:49.191266Z"
    },
    "papermill": {
     "duration": 0.020487,
     "end_time": "2022-09-20T16:06:49.194591",
     "exception": false,
     "start_time": "2022-09-20T16:06:49.174104",
     "status": "completed"
    },
    "tags": []
   },
   "outputs": [],
   "source": [
    "from os import listdir\n",
    "from numpy import zeros\n",
    "from numpy import asarray\n",
    "from numpy import savez_compressed\n",
    "from keras.preprocessing.image import img_to_array\n",
    "\n",
    "#create a mapping of tags yo integers given the loaded mapping file.\n",
    "def create_tag_mapping(mapping_csv):\n",
    "    labels = set()\n",
    "    for i in range(len(mapping_csv)):\n",
    "        tags = mapping_csv['tags'][i].split(' ')\n",
    "        labels.update(tags)\n",
    "    labels = list(labels)\n",
    "    labels.sort()\n",
    "    labels_map = {labels[i]:i for i in range(len(labels))}\n",
    "    inv_labels_map = {i:labels[i] for i in range(len(labels))}\n",
    "    return labels_map, inv_labels_map\n",
    "#create a mapping of filename to a list of tags\n",
    "def create_file_mapping(mapping_csv):\n",
    "    mapping = dict()\n",
    "    for i in range(len(mapping_csv)):\n",
    "        name, tags = mapping_csv[\"image_name\"][i], mapping_csv[\"tags\"][i]\n",
    "        mapping[name] = tags.split(' ')\n",
    "    return mapping\n",
    "#creating one hot encoding\n",
    "def one_hot_encode(tags, mapping):\n",
    "    encoding = zeros(len(mapping), dtype = \"uint8\")\n",
    "    for tag in tags:\n",
    "        encoding[labels_map[tag]]=1\n",
    "    #for tag in tags.split(' '):\n",
    "        #encoding[mapping[tag]] = 1\n",
    "    return encoding\n",
    "#load all images into memory\n",
    "def load_dataset(path, file_mapping, tag_mapping):\n",
    "    photos, targets = list(), list()\n",
    "    for filename in listdir(folder):\n",
    "        #load image\n",
    "        photo = load_img(path + filename, target_size =(64,64))\n",
    "        #convert to numpy areay\n",
    "        photo = img_to_array(photo,dtype=\"uint8\")\n",
    "        #get tags\n",
    "        tag = file_mapping[filename[:-4]]\n",
    "        #one hot encode tags\n",
    "        #from sklearn.preprocessing import OneHotEncoder\n",
    "        #one_hot_encode = OneHotEncoder()\n",
    "        target = one_hot_encode(tags, tag_mapping)\n",
    "        photos.append(photo)\n",
    "        targets.append(target)\n",
    "    X = asarray(photos, dtype=\"uint8\")\n",
    "    Y = asarray(targets, dtype=\"uint8\")\n",
    "    return X,Y\n",
    "        \n",
    "        \n",
    "        \n",
    "        \n"
   ]
  },
  {
   "cell_type": "code",
   "execution_count": 11,
   "id": "13a0981a",
   "metadata": {
    "execution": {
     "iopub.execute_input": "2022-09-20T16:06:49.208971Z",
     "iopub.status.busy": "2022-09-20T16:06:49.207476Z",
     "iopub.status.idle": "2022-09-20T16:11:11.227597Z",
     "shell.execute_reply": "2022-09-20T16:11:11.226496Z"
    },
    "papermill": {
     "duration": 262.030077,
     "end_time": "2022-09-20T16:11:11.230701",
     "exception": false,
     "start_time": "2022-09-20T16:06:49.200624",
     "status": "completed"
    },
    "tags": []
   },
   "outputs": [
    {
     "name": "stdout",
     "output_type": "stream",
     "text": [
      "(40479, 64, 64, 3) (40479, 17)\n"
     ]
    }
   ],
   "source": [
    "#load the mapping file\n",
    "#filename = train_labels\n",
    "#filename = train_\n",
    "filename = \"../input/planets-dataset/planet/planet/train_classes.csv\"\n",
    "mapping_csv = pd.read_csv(filename)\n",
    "#create a mapping of tags to integers\n",
    "tag_mapping, _ = create_tag_mapping(mapping_csv)\n",
    "#create a maping of filenames to tag list\n",
    "file_mapping = create_file_mapping(mapping_csv)\n",
    "#load the jpegs\n",
    "folder = \"../input/planets-dataset/planet/planet/train-jpg/\"\n",
    "#X, Y = load_datasets(folder,file_mapping, tag_mapping)\n",
    "X, Y = load_dataset(folder, file_mapping, tag_mapping)\n",
    "print(X.shape, Y.shape)\n",
    "savez_compressed(\"planet_data.npz\", X, Y)"
   ]
  },
  {
   "cell_type": "markdown",
   "id": "2cdea651",
   "metadata": {
    "papermill": {
     "duration": 0.008355,
     "end_time": "2022-09-20T16:11:11.248558",
     "exception": false,
     "start_time": "2022-09-20T16:11:11.240203",
     "status": "completed"
    },
    "tags": []
   },
   "source": [
    "#loading the images\n"
   ]
  },
  {
   "cell_type": "code",
   "execution_count": 12,
   "id": "cf562387",
   "metadata": {
    "execution": {
     "iopub.execute_input": "2022-09-20T16:11:11.266971Z",
     "iopub.status.busy": "2022-09-20T16:11:11.266603Z",
     "iopub.status.idle": "2022-09-20T16:11:11.272248Z",
     "shell.execute_reply": "2022-09-20T16:11:11.271297Z"
    },
    "papermill": {
     "duration": 0.018419,
     "end_time": "2022-09-20T16:11:11.275451",
     "exception": false,
     "start_time": "2022-09-20T16:11:11.257032",
     "status": "completed"
    },
    "tags": []
   },
   "outputs": [
    {
     "name": "stdout",
     "output_type": "stream",
     "text": [
      "Loaded:  (40479, 64, 64, 3) (40479, 17)\n"
     ]
    }
   ],
   "source": [
    "#load prepared dataset\n",
    "#from numpy import load\n",
    "#data = load(\"planet_data.npz\")\n",
    "#X, Y = data[\"arr_0\"], data[\"arr_1\"]\n",
    "print(\"Loaded: \", X.shape, Y.shape)\n",
    "#print(\"Loaded: ', X.shape, Y.shape)\n",
    "      "
   ]
  },
  {
   "cell_type": "code",
   "execution_count": 13,
   "id": "340da824",
   "metadata": {
    "execution": {
     "iopub.execute_input": "2022-09-20T16:11:11.294367Z",
     "iopub.status.busy": "2022-09-20T16:11:11.294033Z",
     "iopub.status.idle": "2022-09-20T16:11:15.534578Z",
     "shell.execute_reply": "2022-09-20T16:11:15.532235Z"
    },
    "papermill": {
     "duration": 4.252615,
     "end_time": "2022-09-20T16:11:15.536584",
     "exception": false,
     "start_time": "2022-09-20T16:11:11.283969",
     "status": "completed"
    },
    "tags": []
   },
   "outputs": [
    {
     "name": "stdout",
     "output_type": "stream",
     "text": [
      "(28335, 64, 64, 3) (12144, 64, 64, 3) (28335, 17) (12144, 17)\n"
     ]
    }
   ],
   "source": [
    "#test fbeta score\n",
    "from numpy import load\n",
    "from numpy import ones\n",
    "from numpy import asarray\n",
    "#from sklearn.preprocessing import train_test_split\n",
    "from sklearn.model_selection import train_test_split\n",
    "from sklearn.metrics import fbeta_score\n",
    "\n",
    "#load train and test set\n",
    "def load_dataset():\n",
    "    data = load(\"planet_data.npz\")\n",
    "    X, Y = data[\"arr_0\"], data[\"arr_1\"]\n",
    "    #split into training and test sets\n",
    "    X_train,X_test,Y_train,Y_test = train_test_split(X, Y, test_size = 0.3, random_state = 1)\n",
    "    print(X_train.shape, X_test.shape, Y_train.shape, Y_test.shape)\n",
    "    return X_train, X_test, Y_train, Y_test\n",
    "\n",
    "#load dataset\n",
    "X_train, X_test, Y_train, Y_test = load_dataset()\n",
    "#make all one prediction\n",
    "train_yhat = asarray([ones(Y_train.shape[1]) for _ in range(Y_train.shape[0])])\n",
    "test_yhat = asarray([ones(Y_test.shape[1]) for _ in range(Y_test.shape[0])])\n",
    "\n",
    "#evaluate predictions\n",
    "#train_score = fbeta_score(Y_train, train_yhat, 2, average=\"samples\")\n",
    "#train_score = fbeta_score(Y_train, train_yhat, 2, average = \"samples\")\n",
    "#test_score = fbeta_score(Y_test, test_yhat, 2, average = \"samples\")\n",
    "#print(\"All ones: train=%.3f, test=%.3f\" % (train_score, test_score))"
   ]
  },
  {
   "cell_type": "code",
   "execution_count": 14,
   "id": "3449965a",
   "metadata": {
    "execution": {
     "iopub.execute_input": "2022-09-20T16:11:15.551082Z",
     "iopub.status.busy": "2022-09-20T16:11:15.550738Z",
     "iopub.status.idle": "2022-09-20T16:11:15.560026Z",
     "shell.execute_reply": "2022-09-20T16:11:15.559082Z"
    },
    "papermill": {
     "duration": 0.018586,
     "end_time": "2022-09-20T16:11:15.562048",
     "exception": false,
     "start_time": "2022-09-20T16:11:15.543462",
     "status": "completed"
    },
    "tags": []
   },
   "outputs": [],
   "source": [
    "from keras import backend as K\n",
    "#calculating fbeta scoree for multi-class classification\n",
    "def fbeta(y_true, y_pred, threshold_shift=0):\n",
    "    beta = 2\n",
    "    #just in case of hipster activation at the final layer\n",
    "    y_pred = K.clip(y_pred,0,1)\n",
    "    #shifting the prediction threshold from .5 if needed\n",
    "    y_pred_bin = K.round(y_pred + threshold_shift)\n",
    "    #calculate elements\n",
    "    tp = K.sum(K.round(y_true * y_pred_bin))+ K.epsilon()\n",
    "    fp = K.sum(K.round(K.clip(y_pred_bin- y_true, 0, 1)))\n",
    "    fn = K.sum(K.round(K.clip(y_true - y_pred_bin, 0, 1)))\n",
    "    #calculate precision\n",
    "    p = tp / (tp + fp)\n",
    "    #calculate recall\n",
    "    r = tp / (tp + fn)\n",
    "    #calculate fbeta \n",
    "    bb = beta ** 2\n",
    "    return(bb + 1) * (p * r) / (bb * p + r + K.epsilon())\n",
    "    \n",
    "y_true, y_pred = np.round(np.random.rand(100)), np.random.rand(100)\n",
    "\n",
    "\n",
    "    \n",
    "    \n"
   ]
  },
  {
   "cell_type": "code",
   "execution_count": 15,
   "id": "7b591fb5",
   "metadata": {
    "execution": {
     "iopub.execute_input": "2022-09-20T16:11:15.576283Z",
     "iopub.status.busy": "2022-09-20T16:11:15.576000Z",
     "iopub.status.idle": "2022-09-20T16:11:18.182389Z",
     "shell.execute_reply": "2022-09-20T16:11:18.181372Z"
    },
    "papermill": {
     "duration": 2.61599,
     "end_time": "2022-09-20T16:11:18.184721",
     "exception": false,
     "start_time": "2022-09-20T16:11:15.568731",
     "status": "completed"
    },
    "tags": []
   },
   "outputs": [
    {
     "name": "stderr",
     "output_type": "stream",
     "text": [
      "2022-09-20 16:11:15.685391: I tensorflow/stream_executor/cuda/cuda_gpu_executor.cc:937] successful NUMA node read from SysFS had negative value (-1), but there must be at least one NUMA node, so returning NUMA node zero\n",
      "2022-09-20 16:11:15.772810: I tensorflow/stream_executor/cuda/cuda_gpu_executor.cc:937] successful NUMA node read from SysFS had negative value (-1), but there must be at least one NUMA node, so returning NUMA node zero\n",
      "2022-09-20 16:11:15.773658: I tensorflow/stream_executor/cuda/cuda_gpu_executor.cc:937] successful NUMA node read from SysFS had negative value (-1), but there must be at least one NUMA node, so returning NUMA node zero\n",
      "2022-09-20 16:11:15.775941: I tensorflow/core/platform/cpu_feature_guard.cc:142] This TensorFlow binary is optimized with oneAPI Deep Neural Network Library (oneDNN) to use the following CPU instructions in performance-critical operations:  AVX2 AVX512F FMA\n",
      "To enable them in other operations, rebuild TensorFlow with the appropriate compiler flags.\n",
      "2022-09-20 16:11:15.776374: I tensorflow/stream_executor/cuda/cuda_gpu_executor.cc:937] successful NUMA node read from SysFS had negative value (-1), but there must be at least one NUMA node, so returning NUMA node zero\n",
      "2022-09-20 16:11:15.777482: I tensorflow/stream_executor/cuda/cuda_gpu_executor.cc:937] successful NUMA node read from SysFS had negative value (-1), but there must be at least one NUMA node, so returning NUMA node zero\n",
      "2022-09-20 16:11:15.778482: I tensorflow/stream_executor/cuda/cuda_gpu_executor.cc:937] successful NUMA node read from SysFS had negative value (-1), but there must be at least one NUMA node, so returning NUMA node zero\n",
      "2022-09-20 16:11:17.719297: I tensorflow/stream_executor/cuda/cuda_gpu_executor.cc:937] successful NUMA node read from SysFS had negative value (-1), but there must be at least one NUMA node, so returning NUMA node zero\n",
      "2022-09-20 16:11:17.720850: I tensorflow/stream_executor/cuda/cuda_gpu_executor.cc:937] successful NUMA node read from SysFS had negative value (-1), but there must be at least one NUMA node, so returning NUMA node zero\n",
      "2022-09-20 16:11:17.722063: I tensorflow/stream_executor/cuda/cuda_gpu_executor.cc:937] successful NUMA node read from SysFS had negative value (-1), but there must be at least one NUMA node, so returning NUMA node zero\n",
      "2022-09-20 16:11:17.722967: I tensorflow/core/common_runtime/gpu/gpu_device.cc:1510] Created device /job:localhost/replica:0/task:0/device:GPU:0 with 15401 MB memory:  -> device: 0, name: Tesla P100-PCIE-16GB, pci bus id: 0000:00:04.0, compute capability: 6.0\n"
     ]
    },
    {
     "name": "stdout",
     "output_type": "stream",
     "text": [
      "Scores are 0.574 (sklearn) and 0.574 (keras)\n"
     ]
    }
   ],
   "source": [
    "import tensorflow.compat.v1 as tf\n",
    "tf.disable_v2_behavior()\n",
    "#evaluate predictions with keras\n",
    "fbeta_keras = fbeta(K.variable(y_true), K.variable(y_pred)).eval(session = K.get_session())\n",
    "fbeta_sklearn = fbeta_score(y_true, np.round(y_pred), beta=2)\n",
    "#train_score = fbeta(backend.variable(Y_train), backend.variable(train_yhat))\n",
    "#test_score = fbeta(backend.variable(Y_test), backend.variable(test_yhat))\n",
    "print(\"Scores are {:.3f} (sklearn) and {:.3f} (keras)\".format(fbeta_sklearn, fbeta_keras))"
   ]
  },
  {
   "cell_type": "markdown",
   "id": "cd4ad017",
   "metadata": {
    "papermill": {
     "duration": 0.006199,
     "end_time": "2022-09-20T16:11:18.197553",
     "exception": false,
     "start_time": "2022-09-20T16:11:18.191354",
     "status": "completed"
    },
    "tags": []
   },
   "source": [
    "Evaluating a baseline model****"
   ]
  },
  {
   "cell_type": "code",
   "execution_count": 16,
   "id": "d901a8f0",
   "metadata": {
    "execution": {
     "iopub.execute_input": "2022-09-20T16:11:18.212600Z",
     "iopub.status.busy": "2022-09-20T16:11:18.211085Z",
     "iopub.status.idle": "2022-09-20T16:11:18.324091Z",
     "shell.execute_reply": "2022-09-20T16:11:18.323054Z"
    },
    "papermill": {
     "duration": 0.122725,
     "end_time": "2022-09-20T16:11:18.326577",
     "exception": false,
     "start_time": "2022-09-20T16:11:18.203852",
     "status": "completed"
    },
    "tags": []
   },
   "outputs": [],
   "source": [
    "model = Sequential()\n",
    "model.add(Conv2D(32, (3, 3), activation='relu', kernel_initializer='he_uniform', padding='same', input_shape=(64, 64, 3)))\n",
    "model.add(Conv2D(32, (3, 3), activation='relu', kernel_initializer='he_uniform', padding='same'))\n",
    "model.add(MaxPooling2D((2, 2)))\n",
    "model.add(Conv2D(64, (3, 3), activation='relu', kernel_initializer='he_uniform', padding='same'))\n",
    "model.add(Conv2D(64, (3, 3), activation='relu', kernel_initializer='he_uniform', padding='same'))\n",
    "model.add(MaxPooling2D((2, 2)))\n",
    "model.add(Conv2D(64, (3, 3), activation='relu', kernel_initializer='he_uniform', padding='same'))\n",
    "model.add(Conv2D(64, (3, 3), activation='relu', kernel_initializer='he_uniform', padding='same'))\n",
    "model.add(MaxPooling2D((2, 2)))"
   ]
  },
  {
   "cell_type": "code",
   "execution_count": 17,
   "id": "20e4588a",
   "metadata": {
    "execution": {
     "iopub.execute_input": "2022-09-20T16:11:18.341604Z",
     "iopub.status.busy": "2022-09-20T16:11:18.340767Z",
     "iopub.status.idle": "2022-09-20T16:11:18.373652Z",
     "shell.execute_reply": "2022-09-20T16:11:18.372772Z"
    },
    "papermill": {
     "duration": 0.042481,
     "end_time": "2022-09-20T16:11:18.375764",
     "exception": false,
     "start_time": "2022-09-20T16:11:18.333283",
     "status": "completed"
    },
    "tags": []
   },
   "outputs": [],
   "source": [
    "\n",
    "model.add(Flatten())\n",
    "model.add(Dense(64, activation='relu', kernel_initializer='he_uniform'))\n",
    "model.add(Dense(17, activation='sigmoid'))"
   ]
  },
  {
   "cell_type": "code",
   "execution_count": 18,
   "id": "82274633",
   "metadata": {
    "execution": {
     "iopub.execute_input": "2022-09-20T16:11:18.390186Z",
     "iopub.status.busy": "2022-09-20T16:11:18.389908Z",
     "iopub.status.idle": "2022-09-20T16:11:18.540264Z",
     "shell.execute_reply": "2022-09-20T16:11:18.539321Z"
    },
    "papermill": {
     "duration": 0.16035,
     "end_time": "2022-09-20T16:11:18.542635",
     "exception": false,
     "start_time": "2022-09-20T16:11:18.382285",
     "status": "completed"
    },
    "tags": []
   },
   "outputs": [],
   "source": [
    "from tensorflow.keras.optimizers import Adam\n",
    "# compile model\n",
    "opt = Adam()\n",
    "model.compile(optimizer=opt, loss='binary_crossentropy', metrics=[fbeta])"
   ]
  },
  {
   "cell_type": "code",
   "execution_count": 19,
   "id": "03637873",
   "metadata": {
    "execution": {
     "iopub.execute_input": "2022-09-20T16:11:18.557525Z",
     "iopub.status.busy": "2022-09-20T16:11:18.556724Z",
     "iopub.status.idle": "2022-09-20T16:11:18.561388Z",
     "shell.execute_reply": "2022-09-20T16:11:18.560480Z"
    },
    "papermill": {
     "duration": 0.014002,
     "end_time": "2022-09-20T16:11:18.563361",
     "exception": false,
     "start_time": "2022-09-20T16:11:18.549359",
     "status": "completed"
    },
    "tags": []
   },
   "outputs": [],
   "source": [
    "\n",
    "#create data generator\n",
    "datagen = ImageDataGenerator(rescale=1.0/255.0)"
   ]
  },
  {
   "cell_type": "code",
   "execution_count": 20,
   "id": "f27eec95",
   "metadata": {
    "execution": {
     "iopub.execute_input": "2022-09-20T16:11:18.577416Z",
     "iopub.status.busy": "2022-09-20T16:11:18.577135Z",
     "iopub.status.idle": "2022-09-20T16:11:19.052335Z",
     "shell.execute_reply": "2022-09-20T16:11:19.051345Z"
    },
    "papermill": {
     "duration": 0.485163,
     "end_time": "2022-09-20T16:11:19.054856",
     "exception": false,
     "start_time": "2022-09-20T16:11:18.569693",
     "status": "completed"
    },
    "tags": []
   },
   "outputs": [],
   "source": [
    "# prepare iterators\n",
    "train_it = datagen.flow(X_train, Y_train, batch_size=64)\n",
    "test_it = datagen.flow(X_test, Y_test, batch_size=64)"
   ]
  },
  {
   "cell_type": "code",
   "execution_count": 21,
   "id": "ad467b5e",
   "metadata": {
    "execution": {
     "iopub.execute_input": "2022-09-20T16:11:19.069966Z",
     "iopub.status.busy": "2022-09-20T16:11:19.069653Z",
     "iopub.status.idle": "2022-09-20T16:12:00.308749Z",
     "shell.execute_reply": "2022-09-20T16:12:00.307803Z"
    },
    "papermill": {
     "duration": 41.249185,
     "end_time": "2022-09-20T16:12:00.310995",
     "exception": false,
     "start_time": "2022-09-20T16:11:19.061810",
     "status": "completed"
    },
    "tags": []
   },
   "outputs": [
    {
     "name": "stdout",
     "output_type": "stream",
     "text": [
      "Epoch 1/5\n"
     ]
    },
    {
     "name": "stderr",
     "output_type": "stream",
     "text": [
      "2022-09-20 16:11:20.383612: I tensorflow/stream_executor/cuda/cuda_dnn.cc:369] Loaded cuDNN version 8005\n"
     ]
    },
    {
     "name": "stdout",
     "output_type": "stream",
     "text": [
      "443/443 [==============================] - ETA: 0s - batch: 221.0000 - size: 63.9616 - loss: 0.0024 - fbeta: 0.9990"
     ]
    },
    {
     "name": "stderr",
     "output_type": "stream",
     "text": [
      "/opt/conda/lib/python3.7/site-packages/keras/engine/training.py:2470: UserWarning: `Model.state_updates` will be removed in a future version. This property should not be used in TensorFlow 2.0, as `updates` are applied automatically.\n",
      "  warnings.warn('`Model.state_updates` will be removed in a future version. '\n"
     ]
    },
    {
     "name": "stdout",
     "output_type": "stream",
     "text": [
      "443/443 [==============================] - 14s 15ms/step - batch: 221.0000 - size: 63.9616 - loss: 0.0024 - fbeta: 0.9990 - val_loss: 9.7276e-40 - val_fbeta: 1.0000\n",
      "Epoch 2/5\n",
      "443/443 [==============================] - 7s 15ms/step - batch: 221.0000 - size: 63.9616 - loss: 9.9885e-37 - fbeta: 1.0000 - val_loss: 9.7276e-40 - val_fbeta: 1.0000\n",
      "Epoch 3/5\n",
      "443/443 [==============================] - 7s 16ms/step - batch: 221.0000 - size: 63.9616 - loss: 9.9883e-37 - fbeta: 1.0000 - val_loss: 9.7276e-40 - val_fbeta: 1.0000\n",
      "Epoch 4/5\n",
      "443/443 [==============================] - 7s 15ms/step - batch: 221.0000 - size: 63.9616 - loss: 9.9883e-37 - fbeta: 1.0000 - val_loss: 9.7276e-40 - val_fbeta: 1.0000\n",
      "Epoch 5/5\n",
      "443/443 [==============================] - 7s 15ms/step - batch: 221.0000 - size: 63.9616 - loss: 9.9883e-37 - fbeta: 1.0000 - val_loss: 9.7276e-40 - val_fbeta: 1.0000\n"
     ]
    }
   ],
   "source": [
    "\n",
    "import tensorflow.compat.v1 as tf\n",
    "tf.disable_v2_behavior()\n",
    "# fit model\n",
    "history = model.fit(train_it, steps_per_epoch=len(train_it),\n",
    "\tvalidation_data=test_it, validation_steps=len(test_it), epochs=5, verbose=1)"
   ]
  },
  {
   "cell_type": "code",
   "execution_count": 22,
   "id": "a7ff6fd2",
   "metadata": {
    "execution": {
     "iopub.execute_input": "2022-09-20T16:12:00.380482Z",
     "iopub.status.busy": "2022-09-20T16:12:00.380109Z",
     "iopub.status.idle": "2022-09-20T16:12:01.383825Z",
     "shell.execute_reply": "2022-09-20T16:12:01.382276Z"
    },
    "papermill": {
     "duration": 1.041436,
     "end_time": "2022-09-20T16:12:01.386968",
     "exception": false,
     "start_time": "2022-09-20T16:12:00.345532",
     "status": "completed"
    },
    "tags": []
   },
   "outputs": [
    {
     "name": "stdout",
     "output_type": "stream",
     "text": [
      "> loss=0.000, fbeta=1.000\n"
     ]
    }
   ],
   "source": [
    "\n",
    "# evaluate model\n",
    "loss, fbeta = model.evaluate(test_it, steps=len(test_it), verbose=0)\n",
    "print('> loss=%.3f, fbeta=%.3f' % (loss, fbeta))"
   ]
  },
  {
   "cell_type": "code",
   "execution_count": 23,
   "id": "1b2e6438",
   "metadata": {
    "execution": {
     "iopub.execute_input": "2022-09-20T16:12:01.461093Z",
     "iopub.status.busy": "2022-09-20T16:12:01.460760Z",
     "iopub.status.idle": "2022-09-20T16:12:01.579507Z",
     "shell.execute_reply": "2022-09-20T16:12:01.578515Z"
    },
    "papermill": {
     "duration": 0.160832,
     "end_time": "2022-09-20T16:12:01.582071",
     "exception": false,
     "start_time": "2022-09-20T16:12:01.421239",
     "status": "completed"
    },
    "tags": []
   },
   "outputs": [],
   "source": [
    "#save the model\n",
    "model.save('/kaggle/working/model_2.h5')\n"
   ]
  },
  {
   "cell_type": "code",
   "execution_count": 24,
   "id": "4f4d7463",
   "metadata": {
    "execution": {
     "iopub.execute_input": "2022-09-20T16:12:01.650596Z",
     "iopub.status.busy": "2022-09-20T16:12:01.649736Z",
     "iopub.status.idle": "2022-09-20T16:12:01.655034Z",
     "shell.execute_reply": "2022-09-20T16:12:01.654079Z"
    },
    "papermill": {
     "duration": 0.041565,
     "end_time": "2022-09-20T16:12:01.657078",
     "exception": false,
     "start_time": "2022-09-20T16:12:01.615513",
     "status": "completed"
    },
    "tags": []
   },
   "outputs": [],
   "source": [
    "#dividing my test_labels into two part for test-jpg and test-jpg-additional\n",
    "test = sam_subs[0 : 40669]\n",
    "files = sam_subs[40669 : ]"
   ]
  },
  {
   "cell_type": "code",
   "execution_count": 25,
   "id": "f2d70014",
   "metadata": {
    "execution": {
     "iopub.execute_input": "2022-09-20T16:12:01.724816Z",
     "iopub.status.busy": "2022-09-20T16:12:01.724450Z",
     "iopub.status.idle": "2022-09-20T16:18:14.634502Z",
     "shell.execute_reply": "2022-09-20T16:18:14.633525Z"
    },
    "papermill": {
     "duration": 372.946635,
     "end_time": "2022-09-20T16:18:14.636899",
     "exception": false,
     "start_time": "2022-09-20T16:12:01.690264",
     "status": "completed"
    },
    "tags": []
   },
   "outputs": [
    {
     "name": "stderr",
     "output_type": "stream",
     "text": [
      "100%|██████████| 40669/40669 [04:05<00:00, 165.67it/s]\n",
      "100%|██████████| 20522/20522 [02:04<00:00, 165.13it/s]\n"
     ]
    }
   ],
   "source": [
    "test_img = []\n",
    "\n",
    "for image_name, tags in tqdm(test.values, miniters=1000):\n",
    "    arr = cv2.imread('../input/planets-dataset/planet/planet/test-jpg/{}.jpg'.format(image_name))\n",
    "    test_img.append(cv2.resize(arr, (64, 64)))\n",
    "\n",
    "for image_name, tags in tqdm(files.values, miniters=1000):\n",
    "    arr = cv2.imread('../input/planets-dataset/test-jpg-additional/test-jpg-additional/{}.jpg'.format(image_name))\n",
    "    test_img.append(cv2.resize(arr, (64, 64)))\n",
    "\n",
    "test_img = np.array(test_img, np.float32)/255.0"
   ]
  },
  {
   "cell_type": "code",
   "execution_count": 26,
   "id": "df2f6a3d",
   "metadata": {
    "execution": {
     "iopub.execute_input": "2022-09-20T16:18:14.714823Z",
     "iopub.status.busy": "2022-09-20T16:18:14.714506Z",
     "iopub.status.idle": "2022-09-20T16:18:14.877548Z",
     "shell.execute_reply": "2022-09-20T16:18:14.876530Z"
    },
    "papermill": {
     "duration": 0.204583,
     "end_time": "2022-09-20T16:18:14.880405",
     "exception": false,
     "start_time": "2022-09-20T16:18:14.675822",
     "status": "completed"
    },
    "tags": []
   },
   "outputs": [
    {
     "data": {
      "text/plain": [
       "105"
      ]
     },
     "execution_count": 26,
     "metadata": {},
     "output_type": "execute_result"
    }
   ],
   "source": [
    "import gc\n",
    "gc.collect()"
   ]
  },
  {
   "cell_type": "code",
   "execution_count": 27,
   "id": "a2ccef56",
   "metadata": {
    "execution": {
     "iopub.execute_input": "2022-09-20T16:18:14.987638Z",
     "iopub.status.busy": "2022-09-20T16:18:14.987179Z",
     "iopub.status.idle": "2022-09-20T16:18:18.737815Z",
     "shell.execute_reply": "2022-09-20T16:18:18.736825Z"
    },
    "papermill": {
     "duration": 3.822422,
     "end_time": "2022-09-20T16:18:18.740262",
     "exception": false,
     "start_time": "2022-09-20T16:18:14.917840",
     "status": "completed"
    },
    "tags": []
   },
   "outputs": [],
   "source": [
    "yres = []\n",
    "predictions = model.predict(test_img, batch_size = 64, verbose = 2)\n",
    "yres.append(predictions)"
   ]
  },
  {
   "cell_type": "code",
   "execution_count": 28,
   "id": "35b40951",
   "metadata": {
    "execution": {
     "iopub.execute_input": "2022-09-20T16:18:18.816876Z",
     "iopub.status.busy": "2022-09-20T16:18:18.816003Z",
     "iopub.status.idle": "2022-09-20T16:18:18.822684Z",
     "shell.execute_reply": "2022-09-20T16:18:18.821841Z"
    },
    "papermill": {
     "duration": 0.046996,
     "end_time": "2022-09-20T16:18:18.825002",
     "exception": false,
     "start_time": "2022-09-20T16:18:18.778006",
     "status": "completed"
    },
    "tags": []
   },
   "outputs": [],
   "source": [
    "#converting my encoded labels back to it original form\n",
    "sub = np.array(yres[0])\n",
    "for i in range (1, len(yres)):\n",
    "    sub += np.array(yres[i])\n",
    "sub = pd.DataFrame(sub, columns = labels_map)"
   ]
  },
  {
   "cell_type": "code",
   "execution_count": 29,
   "id": "09140fb4",
   "metadata": {
    "execution": {
     "iopub.execute_input": "2022-09-20T16:18:18.900741Z",
     "iopub.status.busy": "2022-09-20T16:18:18.900459Z",
     "iopub.status.idle": "2022-09-20T16:20:14.303468Z",
     "shell.execute_reply": "2022-09-20T16:20:14.302478Z"
    },
    "papermill": {
     "duration": 115.443498,
     "end_time": "2022-09-20T16:20:14.305895",
     "exception": false,
     "start_time": "2022-09-20T16:18:18.862397",
     "status": "completed"
    },
    "tags": []
   },
   "outputs": [
    {
     "name": "stderr",
     "output_type": "stream",
     "text": [
      "100%|██████████| 61191/61191 [01:55<00:00, 530.74it/s]\n"
     ]
    }
   ],
   "source": [
    "#saving my final result into a csv file\n",
    "preds = []\n",
    "for i in tqdm(range(sub.shape[0]), miniters=1000):\n",
    "    a = sub.loc[[i]]\n",
    "    a = a.apply(lambda x: x > 0.2, axis=1)\n",
    "    a = a.transpose()\n",
    "    a= a.loc[a[i] == True]\n",
    "    ' '.join(list(a.index))\n",
    "    preds.append(' '.join(list(a.index)))\n",
    "\n",
    "sam_subs['tags'] = preds\n",
    "sam_subs.to_csv('subm.csv', index=False)"
   ]
  },
  {
   "cell_type": "code",
   "execution_count": 30,
   "id": "5dbb5223",
   "metadata": {
    "execution": {
     "iopub.execute_input": "2022-09-20T16:20:14.387778Z",
     "iopub.status.busy": "2022-09-20T16:20:14.386292Z",
     "iopub.status.idle": "2022-09-20T16:20:14.399050Z",
     "shell.execute_reply": "2022-09-20T16:20:14.398210Z"
    },
    "papermill": {
     "duration": 0.054805,
     "end_time": "2022-09-20T16:20:14.401166",
     "exception": false,
     "start_time": "2022-09-20T16:20:14.346361",
     "status": "completed"
    },
    "tags": []
   },
   "outputs": [
    {
     "data": {
      "text/html": [
       "<div>\n",
       "<style scoped>\n",
       "    .dataframe tbody tr th:only-of-type {\n",
       "        vertical-align: middle;\n",
       "    }\n",
       "\n",
       "    .dataframe tbody tr th {\n",
       "        vertical-align: top;\n",
       "    }\n",
       "\n",
       "    .dataframe thead th {\n",
       "        text-align: right;\n",
       "    }\n",
       "</style>\n",
       "<table border=\"1\" class=\"dataframe\">\n",
       "  <thead>\n",
       "    <tr style=\"text-align: right;\">\n",
       "      <th></th>\n",
       "      <th>image_name</th>\n",
       "      <th>tags</th>\n",
       "    </tr>\n",
       "  </thead>\n",
       "  <tbody>\n",
       "    <tr>\n",
       "      <th>0</th>\n",
       "      <td>test_0</td>\n",
       "      <td>agriculture cultivation partly_cloudy primary</td>\n",
       "    </tr>\n",
       "    <tr>\n",
       "      <th>1</th>\n",
       "      <td>test_1</td>\n",
       "      <td>agriculture cultivation partly_cloudy primary</td>\n",
       "    </tr>\n",
       "    <tr>\n",
       "      <th>2</th>\n",
       "      <td>test_2</td>\n",
       "      <td>agriculture cultivation partly_cloudy primary</td>\n",
       "    </tr>\n",
       "    <tr>\n",
       "      <th>3</th>\n",
       "      <td>test_3</td>\n",
       "      <td>agriculture cultivation partly_cloudy primary</td>\n",
       "    </tr>\n",
       "    <tr>\n",
       "      <th>4</th>\n",
       "      <td>test_4</td>\n",
       "      <td>agriculture cultivation partly_cloudy primary</td>\n",
       "    </tr>\n",
       "    <tr>\n",
       "      <th>...</th>\n",
       "      <td>...</td>\n",
       "      <td>...</td>\n",
       "    </tr>\n",
       "    <tr>\n",
       "      <th>61186</th>\n",
       "      <td>file_9995</td>\n",
       "      <td>agriculture cultivation partly_cloudy primary</td>\n",
       "    </tr>\n",
       "    <tr>\n",
       "      <th>61187</th>\n",
       "      <td>file_9996</td>\n",
       "      <td>agriculture cultivation partly_cloudy primary</td>\n",
       "    </tr>\n",
       "    <tr>\n",
       "      <th>61188</th>\n",
       "      <td>file_9997</td>\n",
       "      <td>agriculture cultivation partly_cloudy primary</td>\n",
       "    </tr>\n",
       "    <tr>\n",
       "      <th>61189</th>\n",
       "      <td>file_9998</td>\n",
       "      <td>agriculture cultivation partly_cloudy primary</td>\n",
       "    </tr>\n",
       "    <tr>\n",
       "      <th>61190</th>\n",
       "      <td>file_9999</td>\n",
       "      <td>agriculture cultivation partly_cloudy primary</td>\n",
       "    </tr>\n",
       "  </tbody>\n",
       "</table>\n",
       "<p>61191 rows × 2 columns</p>\n",
       "</div>"
      ],
      "text/plain": [
       "      image_name                                           tags\n",
       "0         test_0  agriculture cultivation partly_cloudy primary\n",
       "1         test_1  agriculture cultivation partly_cloudy primary\n",
       "2         test_2  agriculture cultivation partly_cloudy primary\n",
       "3         test_3  agriculture cultivation partly_cloudy primary\n",
       "4         test_4  agriculture cultivation partly_cloudy primary\n",
       "...          ...                                            ...\n",
       "61186  file_9995  agriculture cultivation partly_cloudy primary\n",
       "61187  file_9996  agriculture cultivation partly_cloudy primary\n",
       "61188  file_9997  agriculture cultivation partly_cloudy primary\n",
       "61189  file_9998  agriculture cultivation partly_cloudy primary\n",
       "61190  file_9999  agriculture cultivation partly_cloudy primary\n",
       "\n",
       "[61191 rows x 2 columns]"
      ]
     },
     "execution_count": 30,
     "metadata": {},
     "output_type": "execute_result"
    }
   ],
   "source": [
    "sam_subs"
   ]
  }
 ],
 "metadata": {
  "kernelspec": {
   "display_name": "Python 3",
   "language": "python",
   "name": "python3"
  },
  "language_info": {
   "codemirror_mode": {
    "name": "ipython",
    "version": 3
   },
   "file_extension": ".py",
   "mimetype": "text/x-python",
   "name": "python",
   "nbconvert_exporter": "python",
   "pygments_lexer": "ipython3",
   "version": "3.7.12"
  },
  "papermill": {
   "default_parameters": {},
   "duration": 822.635274,
   "end_time": "2022-09-20T16:20:17.346403",
   "environment_variables": {},
   "exception": null,
   "input_path": "__notebook__.ipynb",
   "output_path": "__notebook__.ipynb",
   "parameters": {},
   "start_time": "2022-09-20T16:06:34.711129",
   "version": "2.3.4"
  }
 },
 "nbformat": 4,
 "nbformat_minor": 5
}
